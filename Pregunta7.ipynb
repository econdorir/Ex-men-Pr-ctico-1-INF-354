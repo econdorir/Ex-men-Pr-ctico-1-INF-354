{
  "nbformat": 4,
  "nbformat_minor": 0,
  "metadata": {
    "colab": {
      "provenance": []
    },
    "kernelspec": {
      "name": "python3",
      "display_name": "Python 3"
    },
    "language_info": {
      "name": "python"
    }
  },
  "cells": [
    {
      "cell_type": "code",
      "source": [
        "!pip install deap\n"
      ],
      "metadata": {
        "colab": {
          "base_uri": "https://localhost:8080/"
        },
        "id": "ArYSDM99gTOy",
        "outputId": "e4ea3e92-2496-47d2-b256-3af73a2ce287"
      },
      "execution_count": 2,
      "outputs": [
        {
          "output_type": "stream",
          "name": "stdout",
          "text": [
            "Collecting deap\n",
            "  Downloading deap-1.4.1-cp310-cp310-manylinux_2_5_x86_64.manylinux1_x86_64.manylinux_2_17_x86_64.manylinux2014_x86_64.whl.metadata (13 kB)\n",
            "Requirement already satisfied: numpy in /usr/local/lib/python3.10/dist-packages (from deap) (1.26.4)\n",
            "Downloading deap-1.4.1-cp310-cp310-manylinux_2_5_x86_64.manylinux1_x86_64.manylinux_2_17_x86_64.manylinux2014_x86_64.whl (135 kB)\n",
            "\u001b[2K   \u001b[90m━━━━━━━━━━━━━━━━━━━━━━━━━━━━━━━━━━━━━━━━\u001b[0m \u001b[32m135.4/135.4 kB\u001b[0m \u001b[31m2.7 MB/s\u001b[0m eta \u001b[36m0:00:00\u001b[0m\n",
            "\u001b[?25hInstalling collected packages: deap\n",
            "Successfully installed deap-1.4.1\n"
          ]
        }
      ]
    },
    {
      "cell_type": "code",
      "execution_count": 5,
      "metadata": {
        "colab": {
          "base_uri": "https://localhost:8080/"
        },
        "id": "TaB83UEagAz3",
        "outputId": "1c27c2c2-80e6-4c37-e9cf-45af6c01df2c"
      },
      "outputs": [
        {
          "output_type": "stream",
          "name": "stdout",
          "text": [
            "Mejor individuo: [12.03238864382394], f(x) = 9.963838716870826e+25\n"
          ]
        }
      ],
      "source": [
        "import random\n",
        "from deap import base, creator, tools, algorithms\n",
        "\n",
        "# Definición del problema como maximización\n",
        "creator.create(\"FitnessMax\", base.Fitness, weights=(1.0,))\n",
        "creator.create(\"Individual\", list, fitness=creator.FitnessMax)\n",
        "\n",
        "# Parámetros\n",
        "population_size = 100\n",
        "generations = 3\n",
        "mutation_rate = 0.2\n",
        "crossover_rate = 0.5\n",
        "\n",
        "# Función objetivo\n",
        "def fitness_function(individual):\n",
        "    x = individual[0]\n",
        "    return (x**(2*x) - 1,)\n",
        "\n",
        "# Crear herramientas\n",
        "toolbox = base.Toolbox()\n",
        "toolbox.register(\"x\", random.uniform, 0, 10)  # Rango de valores para x\n",
        "toolbox.register(\"individual\", tools.initRepeat, creator.Individual, toolbox.x, n=1)\n",
        "toolbox.register(\"population\", tools.initRepeat, list, toolbox.individual)\n",
        "toolbox.register(\"evaluate\", fitness_function)\n",
        "toolbox.register(\"mate\", tools.cxBlend, alpha=0.5)\n",
        "toolbox.register(\"mutate\", tools.mutGaussian, mu=0, sigma=1, indpb=mutation_rate)\n",
        "toolbox.register(\"select\", tools.selTournament, tournsize=3)\n",
        "\n",
        "# Algoritmo genético\n",
        "population = toolbox.population(n=population_size)\n",
        "\n",
        "for generation in range(generations):\n",
        "    # Evaluar la población\n",
        "    fitnesses = list(map(toolbox.evaluate, population))\n",
        "    for ind, fit in zip(population, fitnesses):\n",
        "        ind.fitness.values = fit\n",
        "\n",
        "    # Selección\n",
        "    offspring = toolbox.select(population, len(population))\n",
        "    offspring = list(map(toolbox.clone, offspring))\n",
        "\n",
        "    # Cruzamiento\n",
        "    for child1, child2 in zip(offspring[::2], offspring[1::2]):\n",
        "        if random.random() < crossover_rate:\n",
        "            toolbox.mate(child1, child2)\n",
        "            del child1.fitness.values  # Marcar como no evaluado\n",
        "            del child2.fitness.values  # Marcar como no evaluado\n",
        "\n",
        "    # Mutación\n",
        "    for mutant in offspring:\n",
        "        if random.random() < mutation_rate:\n",
        "            toolbox.mutate(mutant)\n",
        "            del mutant.fitness.values  # Marcar como no evaluado\n",
        "\n",
        "    # Reemplazo\n",
        "    population[:] = offspring\n",
        "\n",
        "# Evaluar la población final\n",
        "fitnesses = list(map(toolbox.evaluate, population))\n",
        "for ind, fit in zip(population, fitnesses):\n",
        "    ind.fitness.values = fit\n",
        "\n",
        "# Obtener el mejor individuo\n",
        "fits = [ind.fitness.values[0] for ind in population]\n",
        "best_idx = fits.index(max(fits))\n",
        "best_ind = population[best_idx]\n",
        "\n",
        "print(f\"Mejor individuo: {best_ind}, f(x) = {best_ind[0]**(2*best_ind[0]) - 1}\")\n"
      ]
    },
    {
      "cell_type": "code",
      "source": [
        "import random\n",
        "\n",
        "# Parámetros\n",
        "population_size = 100\n",
        "generations = 3\n",
        "mutation_rate = 0.2\n",
        "crossover_rate = 0.5\n",
        "x_range = (0, 10)\n",
        "\n",
        "# Función objetivo\n",
        "def fitness_function(x):\n",
        "    return x**(2*x) - 1\n",
        "\n",
        "# Crear población inicial\n",
        "population = [random.uniform(*x_range) for _ in range(population_size)]\n",
        "\n",
        "# Algoritmo genético\n",
        "for generation in range(generations):\n",
        "    # Evaluar la población\n",
        "    fitnesses = [fitness_function(x) for x in population]\n",
        "\n",
        "    # Selección (torneo)\n",
        "    selected = []\n",
        "    for _ in range(population_size):\n",
        "        competitors = random.sample(population, 3)\n",
        "        selected.append(max(competitors, key=fitness_function))\n",
        "\n",
        "    # Cruzamiento\n",
        "    offspring = []\n",
        "    for i in range(0, population_size, 2):\n",
        "        parent1 = selected[i]\n",
        "        parent2 = selected[i + 1] if i + 1 < population_size else selected[0]\n",
        "        if random.random() < crossover_rate:\n",
        "            # Cruzamiento uniforme\n",
        "            child = (parent1 + parent2) / 2  # Cruzamiento simple\n",
        "        else:\n",
        "            child = parent1\n",
        "        offspring.append(child)\n",
        "\n",
        "    # Mutación\n",
        "    for i in range(len(offspring)):\n",
        "        if random.random() < mutation_rate:\n",
        "            offspring[i] += random.gauss(0, 1)  # Mutación gaussiana\n",
        "\n",
        "    # Reemplazo\n",
        "    population = offspring\n",
        "\n",
        "# Obtener el mejor individuo\n",
        "best_ind = max(population, key=fitness_function)\n",
        "\n",
        "print(f\"Mejor individuo: {best_ind}, f(x) = {fitness_function(best_ind)}\")\n"
      ],
      "metadata": {
        "colab": {
          "base_uri": "https://localhost:8080/"
        },
        "id": "ZQgQp-oPgKCP",
        "outputId": "0a6be795-6f06-47ea-a48e-1ec8c8ae92ee"
      },
      "execution_count": 6,
      "outputs": [
        {
          "output_type": "stream",
          "name": "stdout",
          "text": [
            "Mejor individuo: 11.257517910064506, f(x) = 4.7126897561424366e+23\n"
          ]
        }
      ]
    }
  ]
}