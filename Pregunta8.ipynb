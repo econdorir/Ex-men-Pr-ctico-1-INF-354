{
  "nbformat": 4,
  "nbformat_minor": 0,
  "metadata": {
    "colab": {
      "provenance": []
    },
    "kernelspec": {
      "name": "python3",
      "display_name": "Python 3"
    },
    "language_info": {
      "name": "python"
    }
  },
  "cells": [
    {
      "cell_type": "code",
      "source": [
        "import pandas as pd\n",
        "import numpy as np\n",
        "\n",
        "# Crear el DataFrame con clases específicas\n",
        "data = {\n",
        "    'Altura (cm)': [150, 160, 170, 155, 165, 175, 145, 180, 158, 167],\n",
        "    'Peso (kg)': [50, 60, 70, 55, 65, 75, 45, 85, 57, 68],\n",
        "    'Talla': ['S', 'M', 'L', 'S', 'M', 'XL', 'S', 'XL', 'M', 'L'],\n",
        "    'Clase': ['Estudiante', 'Trabajador', 'Trabajador', 'Estudiante', 'Trabajador',\n",
        "              'Jubilado', 'Estudiante', 'Jubilado', 'Trabajador', 'Trabajador']\n",
        "}\n",
        "\n",
        "df = pd.DataFrame(data)\n",
        "\n",
        "# 2. Contar las clases\n",
        "class_counts = df['Clase'].value_counts()\n",
        "total = class_counts.sum()\n",
        "\n",
        "# 3. Calcular la Entropía\n",
        "def entropy(counts):\n",
        "    proportions = counts / counts.sum()\n",
        "    return -np.sum(proportions * np.log2(proportions + 1e-10) )  # Añadir un pequeño valor para evitar log(0)\n",
        "\n",
        "H = entropy(class_counts)\n",
        "print(f\"Entropía H(S): {H:.4f}\")\n",
        "\n",
        "# 4. Calcular la Entropía Condicionada por Talla\n",
        "conditional_entropy = 0\n",
        "\n",
        "for size in df['Talla'].unique():\n",
        "    subset = df[df['Talla'] == size]['Clase'].value_counts()\n",
        "    subset_entropy = entropy(subset)\n",
        "    subset_size = subset.sum()\n",
        "    conditional_entropy += (subset_size / total) * subset_entropy\n",
        "\n",
        "print(f\"Entropía Condicionada H(S|Talla): {conditional_entropy:.4f}\")\n",
        "\n",
        "# 5. Calcular la Ganancia de Información\n",
        "gain = H - conditional_entropy\n",
        "print(f\"Ganancia de Información GI(S, Talla): {gain:.4f}\")\n"
      ],
      "metadata": {
        "colab": {
          "base_uri": "https://localhost:8080/"
        },
        "id": "dgTGPfmmqUs4",
        "outputId": "b463e226-26a9-436b-d415-3aefa5dbd790"
      },
      "execution_count": 1,
      "outputs": [
        {
          "output_type": "stream",
          "name": "stdout",
          "text": [
            "Entropía H(S): 1.4855\n",
            "Entropía Condicionada H(S|Talla): -0.0000\n",
            "Ganancia de Información GI(S, Talla): 1.4855\n"
          ]
        }
      ]
    }
  ]
}