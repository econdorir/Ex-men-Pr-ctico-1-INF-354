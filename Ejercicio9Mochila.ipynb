{
  "nbformat": 4,
  "nbformat_minor": 0,
  "metadata": {
    "colab": {
      "provenance": []
    },
    "kernelspec": {
      "name": "python3",
      "display_name": "Python 3"
    },
    "language_info": {
      "name": "python"
    }
  },
  "cells": [
    {
      "cell_type": "code",
      "execution_count": 1,
      "metadata": {
        "colab": {
          "base_uri": "https://localhost:8080/"
        },
        "id": "cIdtQQgI_vE_",
        "outputId": "31825e38-0359-4945-b6c3-96d1b1f73eb1"
      },
      "outputs": [
        {
          "output_type": "stream",
          "name": "stdout",
          "text": [
            "Valor máximo que se puede llevar: 65\n",
            "Índices de los coches seleccionados: [3, 2]\n",
            "Coches seleccionados (peso, valor):\n",
            "Coche 4 (Peso: 2, Valor: 25)\n",
            "Coche 3 (Peso: 3, Valor: 40)\n"
          ]
        }
      ],
      "source": [
        "def knapsack(weights, values, capacity):\n",
        "    n = len(weights)\n",
        "    # Crear una tabla para almacenar los valores máximos\n",
        "    dp = [[0 for _ in range(capacity + 1)] for _ in range(n + 1)]\n",
        "\n",
        "    # Llenar la tabla\n",
        "    for i in range(1, n + 1):\n",
        "        for w in range(capacity + 1):\n",
        "            if weights[i - 1] <= w:\n",
        "                dp[i][w] = max(values[i - 1] + dp[i - 1][w - weights[i - 1]], dp[i - 1][w])\n",
        "            else:\n",
        "                dp[i][w] = dp[i - 1][w]\n",
        "\n",
        "    return dp[n][capacity], dp  # Devolver el valor máximo y la tabla\n",
        "\n",
        "def find_selected_items(weights, values, dp, capacity):\n",
        "    n = len(weights)\n",
        "    selected_items = []\n",
        "    w = capacity\n",
        "\n",
        "    for i in range(n, 0, -1):\n",
        "        if dp[i][w] != dp[i - 1][w]:  # Si el valor cambió, el artículo i fue incluido\n",
        "            selected_items.append(i - 1)  # Guardar índice del artículo\n",
        "            w -= weights[i - 1]  # Restar el peso del artículo\n",
        "\n",
        "    return selected_items\n",
        "\n",
        "# Definición de coches de juguete\n",
        "weights = [1, 2, 3, 2, 5]  # Pesos de los coches\n",
        "values = [10, 15, 40, 25, 50]  # Valores de los coches\n",
        "capacity = 5  # Capacidad de la mochila\n",
        "\n",
        "# Ejecutar la función\n",
        "max_value, dp_table = knapsack(weights, values, capacity)\n",
        "\n",
        "# Obtener los artículos seleccionados\n",
        "selected_indices = find_selected_items(weights, values, dp_table, capacity)\n",
        "\n",
        "# Resultados\n",
        "print(\"Valor máximo que se puede llevar:\", max_value)\n",
        "print(\"Índices de los coches seleccionados:\", selected_indices)\n",
        "print(\"Coches seleccionados (peso, valor):\")\n",
        "for index in selected_indices:\n",
        "    print(f\"Coche {index + 1} (Peso: {weights[index]}, Valor: {values[index]})\")\n"
      ]
    }
  ]
}